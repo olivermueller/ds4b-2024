{
 "cells": [
  {
   "cell_type": "code",
   "execution_count": 8,
   "metadata": {},
   "outputs": [],
   "source": [
    "# Import the necessary libraries\n",
    "import pandas as pd\n",
    "import numpy as np\n",
    "import statsmodels.api as sm"
   ]
  },
  {
   "cell_type": "code",
   "execution_count": null,
   "metadata": {},
   "outputs": [],
   "source": [
    "# Load data\n",
    "data = pd.read_csv(\"https://raw.githubusercontent.com/olivermueller/ds4b-2024/refs/heads/main/Session_03/advertising.csv\")\n",
    "\n",
    "# Extract y and x\n",
    "y = data['Sales'].to_numpy()\n",
    "x = data['TV'].to_numpy()"
   ]
  },
  {
   "cell_type": "code",
   "execution_count": 10,
   "metadata": {},
   "outputs": [],
   "source": [
    "# Random start values for beta0 (intercept) and beta1 (slope)\n",
    "beta0 = np.random.uniform(0, 1)\n",
    "beta1 = np.random.uniform(0, 1)\n",
    "\n",
    "# Define learning rate and maximum number of iterations of GD\n",
    "learning_rate = 0.0000001\n",
    "max_iter = 1000000"
   ]
  },
  {
   "cell_type": "code",
   "execution_count": 11,
   "metadata": {},
   "outputs": [
    {
     "name": "stdout",
     "output_type": "stream",
     "text": [
      "Initial values of beta0 and beta1:  0.4524415536538662 0.5757655270999253\n"
     ]
    }
   ],
   "source": [
    "print(\"Initial values of beta0 and beta1: \", beta0, beta1)"
   ]
  },
  {
   "cell_type": "code",
   "execution_count": 12,
   "metadata": {},
   "outputs": [
    {
     "name": "stdout",
     "output_type": "stream",
     "text": [
      "Iteration: 10000 | Estimated intercept: 1.084167 | Estimated slope: 0.077744\n",
      "Iteration: 20000 | Estimated intercept: 1.657297 | Estimated slope: 0.074834\n",
      "Iteration: 30000 | Estimated intercept: 2.175206 | Estimated slope: 0.072204\n",
      "Iteration: 40000 | Estimated intercept: 2.643215 | Estimated slope: 0.069827\n",
      "Iteration: 50000 | Estimated intercept: 3.066131 | Estimated slope: 0.067679\n",
      "Iteration: 60000 | Estimated intercept: 3.448299 | Estimated slope: 0.065739\n",
      "Iteration: 70000 | Estimated intercept: 3.793645 | Estimated slope: 0.063985\n",
      "Iteration: 80000 | Estimated intercept: 4.105717 | Estimated slope: 0.0624\n",
      "Iteration: 90000 | Estimated intercept: 4.387721 | Estimated slope: 0.060968\n",
      "Iteration: 100000 | Estimated intercept: 4.642554 | Estimated slope: 0.059674\n",
      "Iteration: 110000 | Estimated intercept: 4.872834 | Estimated slope: 0.058504\n",
      "Iteration: 120000 | Estimated intercept: 5.080927 | Estimated slope: 0.057448\n",
      "Iteration: 130000 | Estimated intercept: 5.268969 | Estimated slope: 0.056493\n",
      "Iteration: 140000 | Estimated intercept: 5.438894 | Estimated slope: 0.05563\n",
      "Iteration: 150000 | Estimated intercept: 5.592447 | Estimated slope: 0.05485\n",
      "Iteration: 160000 | Estimated intercept: 5.731205 | Estimated slope: 0.054145\n",
      "Iteration: 170000 | Estimated intercept: 5.856593 | Estimated slope: 0.053509\n",
      "Iteration: 180000 | Estimated intercept: 5.969901 | Estimated slope: 0.052933\n",
      "Iteration: 190000 | Estimated intercept: 6.072291 | Estimated slope: 0.052413\n",
      "Iteration: 200000 | Estimated intercept: 6.164816 | Estimated slope: 0.051943\n",
      "Iteration: 210000 | Estimated intercept: 6.248426 | Estimated slope: 0.051519\n",
      "Iteration: 220000 | Estimated intercept: 6.323981 | Estimated slope: 0.051135\n",
      "Iteration: 230000 | Estimated intercept: 6.392255 | Estimated slope: 0.050788\n",
      "Iteration: 240000 | Estimated intercept: 6.453952 | Estimated slope: 0.050475\n",
      "Iteration: 250000 | Estimated intercept: 6.509704 | Estimated slope: 0.050192\n",
      "Iteration: 260000 | Estimated intercept: 6.560084 | Estimated slope: 0.049936\n",
      "Iteration: 270000 | Estimated intercept: 6.60561 | Estimated slope: 0.049705\n",
      "Iteration: 280000 | Estimated intercept: 6.64675 | Estimated slope: 0.049496\n",
      "Iteration: 290000 | Estimated intercept: 6.683926 | Estimated slope: 0.049307\n",
      "Iteration: 300000 | Estimated intercept: 6.71752 | Estimated slope: 0.049137\n",
      "Iteration: 310000 | Estimated intercept: 6.747877 | Estimated slope: 0.048983\n",
      "Iteration: 320000 | Estimated intercept: 6.77531 | Estimated slope: 0.048843\n",
      "Iteration: 330000 | Estimated intercept: 6.800099 | Estimated slope: 0.048717\n",
      "Iteration: 340000 | Estimated intercept: 6.8225 | Estimated slope: 0.048604\n",
      "Iteration: 350000 | Estimated intercept: 6.842742 | Estimated slope: 0.048501\n",
      "Iteration: 360000 | Estimated intercept: 6.861034 | Estimated slope: 0.048408\n",
      "Iteration: 370000 | Estimated intercept: 6.877564 | Estimated slope: 0.048324\n",
      "Iteration: 380000 | Estimated intercept: 6.892501 | Estimated slope: 0.048248\n",
      "Iteration: 390000 | Estimated intercept: 6.905999 | Estimated slope: 0.04818\n",
      "Iteration: 400000 | Estimated intercept: 6.918196 | Estimated slope: 0.048118\n",
      "Iteration: 410000 | Estimated intercept: 6.929219 | Estimated slope: 0.048062\n",
      "Iteration: 420000 | Estimated intercept: 6.939179 | Estimated slope: 0.048011\n",
      "Iteration: 430000 | Estimated intercept: 6.948179 | Estimated slope: 0.047965\n",
      "Iteration: 440000 | Estimated intercept: 6.956313 | Estimated slope: 0.047924\n",
      "Iteration: 450000 | Estimated intercept: 6.963662 | Estimated slope: 0.047887\n",
      "Iteration: 460000 | Estimated intercept: 6.970304 | Estimated slope: 0.047853\n",
      "Iteration: 470000 | Estimated intercept: 6.976305 | Estimated slope: 0.047822\n",
      "Iteration: 480000 | Estimated intercept: 6.981729 | Estimated slope: 0.047795\n",
      "Iteration: 490000 | Estimated intercept: 6.98663 | Estimated slope: 0.04777\n",
      "Iteration: 500000 | Estimated intercept: 6.991058 | Estimated slope: 0.047748\n",
      "Iteration: 510000 | Estimated intercept: 6.99506 | Estimated slope: 0.047727\n",
      "Iteration: 520000 | Estimated intercept: 6.998676 | Estimated slope: 0.047709\n",
      "Iteration: 530000 | Estimated intercept: 7.001944 | Estimated slope: 0.047692\n",
      "Iteration: 540000 | Estimated intercept: 7.004897 | Estimated slope: 0.047677\n",
      "Iteration: 550000 | Estimated intercept: 7.007566 | Estimated slope: 0.047664\n",
      "Iteration: 560000 | Estimated intercept: 7.009977 | Estimated slope: 0.047651\n",
      "Iteration: 570000 | Estimated intercept: 7.012156 | Estimated slope: 0.04764\n",
      "Iteration: 580000 | Estimated intercept: 7.014126 | Estimated slope: 0.04763\n",
      "Iteration: 590000 | Estimated intercept: 7.015905 | Estimated slope: 0.047621\n",
      "Iteration: 600000 | Estimated intercept: 7.017513 | Estimated slope: 0.047613\n",
      "Iteration: 610000 | Estimated intercept: 7.018966 | Estimated slope: 0.047606\n",
      "Iteration: 620000 | Estimated intercept: 7.020279 | Estimated slope: 0.047599\n",
      "Iteration: 630000 | Estimated intercept: 7.021465 | Estimated slope: 0.047593\n",
      "Iteration: 640000 | Estimated intercept: 7.022538 | Estimated slope: 0.047588\n",
      "Iteration: 650000 | Estimated intercept: 7.023506 | Estimated slope: 0.047583\n",
      "Iteration: 660000 | Estimated intercept: 7.024382 | Estimated slope: 0.047578\n",
      "Iteration: 670000 | Estimated intercept: 7.025173 | Estimated slope: 0.047574\n",
      "Iteration: 680000 | Estimated intercept: 7.025888 | Estimated slope: 0.047571\n",
      "Iteration: 690000 | Estimated intercept: 7.026534 | Estimated slope: 0.047567\n",
      "Iteration: 700000 | Estimated intercept: 7.027118 | Estimated slope: 0.047564\n",
      "Iteration: 710000 | Estimated intercept: 7.027646 | Estimated slope: 0.047562\n",
      "Iteration: 720000 | Estimated intercept: 7.028122 | Estimated slope: 0.047559\n",
      "Iteration: 730000 | Estimated intercept: 7.028553 | Estimated slope: 0.047557\n",
      "Iteration: 740000 | Estimated intercept: 7.028942 | Estimated slope: 0.047555\n",
      "Iteration: 750000 | Estimated intercept: 7.029294 | Estimated slope: 0.047553\n",
      "Iteration: 760000 | Estimated intercept: 7.029612 | Estimated slope: 0.047552\n",
      "Iteration: 770000 | Estimated intercept: 7.029899 | Estimated slope: 0.04755\n",
      "Iteration: 780000 | Estimated intercept: 7.030159 | Estimated slope: 0.047549\n",
      "Iteration: 790000 | Estimated intercept: 7.030394 | Estimated slope: 0.047548\n",
      "Iteration: 800000 | Estimated intercept: 7.030605 | Estimated slope: 0.047547\n",
      "Iteration: 810000 | Estimated intercept: 7.030797 | Estimated slope: 0.047546\n",
      "Iteration: 820000 | Estimated intercept: 7.03097 | Estimated slope: 0.047545\n",
      "Iteration: 830000 | Estimated intercept: 7.031127 | Estimated slope: 0.047544\n",
      "Iteration: 840000 | Estimated intercept: 7.031268 | Estimated slope: 0.047543\n",
      "Iteration: 850000 | Estimated intercept: 7.031396 | Estimated slope: 0.047543\n",
      "Iteration: 860000 | Estimated intercept: 7.031511 | Estimated slope: 0.047542\n",
      "Iteration: 870000 | Estimated intercept: 7.031615 | Estimated slope: 0.047542\n",
      "Iteration: 880000 | Estimated intercept: 7.03171 | Estimated slope: 0.047541\n",
      "Iteration: 890000 | Estimated intercept: 7.031795 | Estimated slope: 0.047541\n",
      "Iteration: 900000 | Estimated intercept: 7.031872 | Estimated slope: 0.04754\n",
      "Iteration: 910000 | Estimated intercept: 7.031941 | Estimated slope: 0.04754\n",
      "Iteration: 920000 | Estimated intercept: 7.032004 | Estimated slope: 0.04754\n",
      "Iteration: 930000 | Estimated intercept: 7.032061 | Estimated slope: 0.047539\n",
      "Iteration: 940000 | Estimated intercept: 7.032112 | Estimated slope: 0.047539\n",
      "Iteration: 950000 | Estimated intercept: 7.032159 | Estimated slope: 0.047539\n",
      "Iteration: 960000 | Estimated intercept: 7.032201 | Estimated slope: 0.047539\n",
      "Iteration: 970000 | Estimated intercept: 7.032238 | Estimated slope: 0.047538\n",
      "Iteration: 980000 | Estimated intercept: 7.032273 | Estimated slope: 0.047538\n",
      "Iteration: 990000 | Estimated intercept: 7.032304 | Estimated slope: 0.047538\n",
      "Iteration: 1000000 | Estimated intercept: 7.032331 | Estimated slope: 0.047538\n"
     ]
    }
   ],
   "source": [
    "# Perform gradient descent\n",
    "for i in range(1, max_iter+1):\n",
    "\n",
    "    # Calculate partial derivatives of loss function with respect to beta0 and beta1\n",
    "    d_beta0 = np.sum(2 * (beta0 + beta1 * x - y))\n",
    "    d_beta1 = np.sum(2 * x * (beta0 + beta1 * x - y))\n",
    "\n",
    "    # Update values of beta0 and beta1 (i.e., take a step into opposite direction of the gradient)\n",
    "    beta0_new = beta0 - learning_rate * d_beta0\n",
    "    beta1_new = beta1 - learning_rate * d_beta1\n",
    "    beta0 = beta0_new\n",
    "    beta1 = beta1_new\n",
    "\n",
    "    # Print estimates every 10000 steps\n",
    "    if i % 10000 == 0:\n",
    "        print(\"Iteration:\", i, \"|\", \"Estimated intercept:\", round(beta0, 6), \"|\", \"Estimated slope:\", round(beta1, 6))"
   ]
  },
  {
   "cell_type": "code",
   "execution_count": 6,
   "metadata": {},
   "outputs": [
    {
     "name": "stdout",
     "output_type": "stream",
     "text": [
      "Final estimated intercept: 6.708992 | Final estimated slope: 0.04918\n"
     ]
    }
   ],
   "source": [
    "# Print final estimated parameter values\n",
    "print(\"Final estimated intercept:\", round(beta0, 6), \"|\", \"Final estimated slope:\", round(beta1, 6))"
   ]
  },
  {
   "cell_type": "code",
   "execution_count": 7,
   "metadata": {},
   "outputs": [
    {
     "name": "stdout",
     "output_type": "stream",
     "text": [
      "                            OLS Regression Results                            \n",
      "==============================================================================\n",
      "Dep. Variable:                  Sales   R-squared:                       0.612\n",
      "Model:                            OLS   Adj. R-squared:                  0.610\n",
      "Method:                 Least Squares   F-statistic:                     312.1\n",
      "Date:                Wed, 30 Oct 2024   Prob (F-statistic):           1.47e-42\n",
      "Time:                        16:11:17   Log-Likelihood:                -519.05\n",
      "No. Observations:                 200   AIC:                             1042.\n",
      "Df Residuals:                     198   BIC:                             1049.\n",
      "Df Model:                           1                                         \n",
      "Covariance Type:            nonrobust                                         \n",
      "==============================================================================\n",
      "                 coef    std err          t      P>|t|      [0.025      0.975]\n",
      "------------------------------------------------------------------------------\n",
      "const          7.0326      0.458     15.360      0.000       6.130       7.935\n",
      "TV             0.0475      0.003     17.668      0.000       0.042       0.053\n",
      "==============================================================================\n",
      "Omnibus:                        0.531   Durbin-Watson:                   1.935\n",
      "Prob(Omnibus):                  0.767   Jarque-Bera (JB):                0.669\n",
      "Skew:                          -0.089   Prob(JB):                        0.716\n",
      "Kurtosis:                       2.779   Cond. No.                         338.\n",
      "==============================================================================\n",
      "\n",
      "Notes:\n",
      "[1] Standard Errors assume that the covariance matrix of the errors is correctly specified.\n"
     ]
    }
   ],
   "source": [
    "# For comparison, let's look at the analytical solution\n",
    "x_with_intercept = sm.add_constant(x)\n",
    "ols = sm.OLS(y, x_with_intercept).fit()\n",
    "print(ols.summary())"
   ]
  }
 ],
 "metadata": {
  "kernelspec": {
   "display_name": "prodok",
   "language": "python",
   "name": "python3"
  },
  "language_info": {
   "codemirror_mode": {
    "name": "ipython",
    "version": 3
   },
   "file_extension": ".py",
   "mimetype": "text/x-python",
   "name": "python",
   "nbconvert_exporter": "python",
   "pygments_lexer": "ipython3",
   "version": "3.12.1"
  }
 },
 "nbformat": 4,
 "nbformat_minor": 2
}
